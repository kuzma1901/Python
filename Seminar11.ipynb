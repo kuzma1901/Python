{
 "cells": [
  {
   "cell_type": "markdown",
   "id": "4d1fd8f1",
   "metadata": {},
   "source": [
    "Определить корни"
   ]
  },
  {
   "cell_type": "code",
   "execution_count": 2,
   "id": "aeca6575",
   "metadata": {},
   "outputs": [],
   "source": [
    "from sympy import *"
   ]
  },
  {
   "cell_type": "code",
   "execution_count": null,
   "id": "75db612d",
   "metadata": {},
   "outputs": [],
   "source": [
    "import math"
   ]
  },
  {
   "cell_type": "code",
   "execution_count": null,
   "id": "bcebafe4",
   "metadata": {},
   "outputs": [],
   "source": [
    "x = Symbol('x')\n",
    "func=(math.sin(x)/2 + math.cos(x)/2) ** 2 * math.sin(x)\n",
    "y=solve(func)\n",
    "x1=float(y[0])\n",
    "x2=float(y[1])\n",
    "print(x1,x2)"
   ]
  },
  {
   "cell_type": "markdown",
   "id": "01c6f4c5",
   "metadata": {},
   "source": [
    "Найти интервалы, на которых функция возрастает"
   ]
  },
  {
   "cell_type": "code",
   "execution_count": null,
   "id": "018c1fc0",
   "metadata": {},
   "outputs": [],
   "source": [
    "fd=diff(func)\n",
    "print(solve(0<fd))"
   ]
  },
  {
   "cell_type": "markdown",
   "id": "2d5576f1",
   "metadata": {},
   "source": [
    "Найти интервалы, на которых функция убывает"
   ]
  },
  {
   "cell_type": "code",
   "execution_count": null,
   "id": "f5ce942d",
   "metadata": {},
   "outputs": [],
   "source": [
    "print(solve(fd<0))"
   ]
  },
  {
   "cell_type": "markdown",
   "id": "cf815350",
   "metadata": {},
   "source": [
    "Построить график"
   ]
  },
  {
   "cell_type": "code",
   "execution_count": null,
   "id": "f21134fd",
   "metadata": {},
   "outputs": [],
   "source": [
    "import matplotlib.pyplot as plt"
   ]
  },
  {
   "cell_type": "code",
   "execution_count": null,
   "id": "f84c7705",
   "metadata": {},
   "outputs": [],
   "source": [
    "list_y=[]\n",
    "for i in range(-5,5):\n",
    "    x=i\n",
    "    y=(math.sin(x)/2 + math.cos(x)/2) ** 2 * math.sin(x)\n",
    "    list_y.append(y)\n",
    "print(list_y)\n",
    "plt.plot(range(-5,6),[0,0,0,0,0,0,0,0,0,0,0])\n",
    "plt.plot(range(-5,6),list_y)"
   ]
  },
  {
   "cell_type": "markdown",
   "id": "e2cf9c45",
   "metadata": {},
   "source": [
    "Вычислить вершину"
   ]
  },
  {
   "cell_type": "code",
   "execution_count": null,
   "id": "30a6f8c0",
   "metadata": {},
   "outputs": [],
   "source": [
    "corni=solve(fd)\n",
    "top=corni[0]\n",
    "x=top\n",
    "y=(math.sin(x)/2 + math.cos(x)/2) ** 2 * math.sin(x)\n",
    "print(top,y)"
   ]
  }
 ],
 "metadata": {
  "kernelspec": {
   "display_name": "Python 3 (ipykernel)",
   "language": "python",
   "name": "python3"
  },
  "language_info": {
   "codemirror_mode": {
    "name": "ipython",
    "version": 3
   },
   "file_extension": ".py",
   "mimetype": "text/x-python",
   "name": "python",
   "nbconvert_exporter": "python",
   "pygments_lexer": "ipython3",
   "version": "3.9.13"
  }
 },
 "nbformat": 4,
 "nbformat_minor": 5
}
